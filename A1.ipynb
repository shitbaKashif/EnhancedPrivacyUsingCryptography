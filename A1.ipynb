{
 "cells": [
  {
   "cell_type": "code",
   "execution_count": 24,
   "metadata": {},
   "outputs": [
    {
     "name": "stdout",
     "output_type": "stream",
     "text": [
      "Requirement already satisfied: pillow in c:\\users\\97156\\appdata\\local\\programs\\python\\python310\\lib\\site-packages (10.3.0)\n",
      "Requirement already satisfied: cryptography in c:\\users\\97156\\appdata\\local\\programs\\python\\python310\\lib\\site-packages (42.0.7)\n",
      "Requirement already satisfied: cffi>=1.12 in c:\\users\\97156\\appdata\\local\\programs\\python\\python310\\lib\\site-packages (from cryptography) (1.15.1)\n",
      "Requirement already satisfied: pycparser in c:\\users\\97156\\appdata\\local\\programs\\python\\python310\\lib\\site-packages (from cffi>=1.12->cryptography) (2.21)\n"
     ]
    },
    {
     "name": "stderr",
     "output_type": "stream",
     "text": [
      "\n",
      "[notice] A new release of pip is available: 24.0 -> 24.2\n",
      "[notice] To update, run: python.exe -m pip install --upgrade pip\n"
     ]
    }
   ],
   "source": [
    "!pip install pillow cryptography\n"
   ]
  },
  {
   "cell_type": "code",
   "execution_count": 25,
   "metadata": {},
   "outputs": [],
   "source": [
    "from cryptography.fernet import Fernet\n",
    "from PIL import Image"
   ]
  },
  {
   "cell_type": "markdown",
   "metadata": {},
   "source": [
    "## AES Encryption"
   ]
  },
  {
   "cell_type": "code",
   "execution_count": 26,
   "metadata": {},
   "outputs": [],
   "source": [
    "def GenerateKey():\n",
    "    MessageKey= Fernet.generate_key()\n",
    "    with open(\"Secret.key\", \"wb\") as FileKey:\n",
    "        FileKey.write(MessageKey)\n",
    "\n",
    "def LoadKey():\n",
    "    return open(\"Secret.key\", \"rb\").read()\n",
    "\n",
    "def EncryptM(message):\n",
    "    MessageKey= LoadKey()\n",
    "    cipher = Fernet(MessageKey)\n",
    "    EncryptedMsg = cipher.encrypt(message.encode())\n",
    "    return EncryptedMsg\n",
    "\n",
    "def DecryptM(EncryptedMsg):\n",
    "    MessageKey= LoadKey()\n",
    "    cipher = Fernet(MessageKey)\n",
    "    DecryptedMsg = cipher.decrypt(EncryptedMsg).decode()\n",
    "    return DecryptedMsg\n"
   ]
  },
  {
   "cell_type": "markdown",
   "metadata": {},
   "source": [
    "## Steganography Module Using PIL\n",
    "- Least Significant Bit (LSB) technique to embed the encrypted message into the pixels of an image is used."
   ]
  },
  {
   "cell_type": "code",
   "execution_count": 27,
   "metadata": {},
   "outputs": [],
   "source": [
    "def to_bin(data):\n",
    "    return ''.join([format(byte, '08b') for byte in data])\n",
    "\n",
    "# Embed encrypted message in the image\n",
    "def EmbedData(image_path, data):\n",
    "    img = Image.open(image_path)\n",
    "    BinaryData = to_bin(data)\n",
    "    BinaryLen = len(BinaryData)\n",
    "    ImgData = img.getdata()\n",
    "    NewImgData = []\n",
    "\n",
    "    Index = 0\n",
    "    for pixel in ImgData:\n",
    "        if Index < BinaryLen:\n",
    "            NewPix = list(pixel)\n",
    "            for i in range(3):\n",
    "                if Index < BinaryLen:\n",
    "                    NewPix[i] = NewPix[i] & ~1 | int(BinaryData[Index])\n",
    "                    Index += 1\n",
    "            NewImgData.append(tuple(NewPix))\n",
    "        else:\n",
    "            NewImgData.append(pixel)\n",
    "    img.putdata(NewImgData)\n",
    "    img.save(\"Decrypted.png\")\n",
    "    print(\"Data embedded and saved as 'Decrypted.png'.\")\n",
    "\n",
    "def ExtraxtingData(image_path):\n",
    "    img = Image.open(image_path)\n",
    "    ImgData = img.getdata()\n",
    "    BinaryData = \"\"\n",
    "\n",
    "    for pixel in ImgData:\n",
    "        for i in range(3):\n",
    "            BinaryData += str(pixel[i] & 1)\n",
    "    Bytes = [BinaryData[i:i+8] for i in range(0, len(BinaryData), 8)]\n",
    "    data = bytearray([int(byte, 2) for byte in Bytes if int(byte, 2) != 0])\n",
    "    return bytes(data)\n"
   ]
  },
  {
   "cell_type": "markdown",
   "metadata": {},
   "source": [
    "- **Key Generation:** A key is generated for AES encryption and saved to secret.key. This step is only needed once.\n",
    "- **Encryption:** The message is encrypted using AES and converted to binary for embedding.\n",
    "- **Embedding:** The encrypted data is embedded into the image using LSB steganography.\n",
    "- **Extraction and Decryption:** The encrypted data is extracted from the image, then decrypted to retrieve the original message."
   ]
  },
  {
   "cell_type": "code",
   "execution_count": 29,
   "metadata": {},
   "outputs": [
    {
     "name": "stdout",
     "output_type": "stream",
     "text": [
      "Encryption Key: b'6GdtxL90zXkARm8mwoCAZfQMO3-jfcxRqFj1imVmexE='\n",
      "Encrypted Message: b'gAAAAABnC6qs3I0BxBUaasRwcVmAoeVXIyuRNzKpAxk5MbdcAeYPp5inrJwTi7kJdsuKjVX8J34OqFxfmb79FlamnOvLaGnRQQ=='\n",
      "Data embedded and saved as 'Decrypted.png'.\n",
      "Decrypted Message: I'm shitba!\n"
     ]
    }
   ],
   "source": [
    "def main():\n",
    "    # GenerateKey() # run only for first time\n",
    "    MessageKey= LoadKey()\n",
    "    print(f\"Encryption Key: {MessageKey}\")\n",
    "    SecretMsg = \"I'm shitba!\"\n",
    "    EncryptedMsg = EncryptM(SecretMsg)\n",
    "    print(f\"Encrypted Message: {EncryptedMsg}\")\n",
    "    EmbedData(\"./Img2.png\", EncryptedMsg)\n",
    "    FinalData = ExtraxtingData(\"./Decrypted.png\")\n",
    "    DecryptedMsg = DecryptM(FinalData)\n",
    "    print(f\"Decrypted Message: {DecryptedMsg}\")\n",
    "\n",
    "if __name__ == \"__main__\":\n",
    "    main()\n"
   ]
  }
 ],
 "metadata": {
  "kernelspec": {
   "display_name": "Python 3",
   "language": "python",
   "name": "python3"
  },
  "language_info": {
   "codemirror_mode": {
    "name": "ipython",
    "version": 3
   },
   "file_extension": ".py",
   "mimetype": "text/x-python",
   "name": "python",
   "nbconvert_exporter": "python",
   "pygments_lexer": "ipython3",
   "version": "3.10.9"
  }
 },
 "nbformat": 4,
 "nbformat_minor": 2
}
